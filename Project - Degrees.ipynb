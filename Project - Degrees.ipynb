{
 "cells": [
  {
   "cell_type": "markdown",
   "metadata": {},
   "source": [
    "# Project Wiki-talks\n",
    "\n",
    "We choose to analyze the wiki-talks datasets of Vietnamese and Swedish Wikipedia as these were able to upload to Jupyter.\n"
   ]
  },
  {
   "cell_type": "code",
   "execution_count": 2,
   "metadata": {
    "collapsed": false
   },
   "outputs": [],
   "source": [
    "import csv #import the Python CSV library\n",
    "import networkx as nx #import NetworkX\n",
    "import numpy as np #import numpy for ...\n",
    "import community #import community (https://pypi.python.org/pypi/python-louvain/0.3)\n",
    "import powerlaw #import powerlaw library for testing fits\n",
    "#force drawing of graphs inline for ipython notebook\n",
    "%matplotlib inline \n",
    "import matplotlib.pyplot as plt #import matplotlib for plotting/drawing grpahs\n"
   ]
  },
  {
   "cell_type": "markdown",
   "metadata": {},
   "source": [
    "## Vietnamese\n"
   ]
  },
  {
   "cell_type": "code",
   "execution_count": 3,
   "metadata": {
    "collapsed": false
   },
   "outputs": [
    {
     "name": "stdout",
     "output_type": "stream",
     "text": [
      "done\n"
     ]
    }
   ],
   "source": [
    "with open('vi-wiki-talk.csv', 'rb') as file_handle:\n",
    "    next(file_handle, '')   # skip the header line (NOTE the first list in the CSV file doesn't contain an edge)\n",
    "    Vietnamese = nx.read_edgelist(file_handle, delimiter='\\t', create_using=nx.DiGraph(), \n",
    "                         nodetype=str, data=(('time', str),), encoding=\"utf-8\")\n",
    "print \"done\""
   ]
  },
  {
   "cell_type": "code",
   "execution_count": null,
   "metadata": {
    "collapsed": true
   },
   "outputs": [],
   "source": []
  },
  {
   "cell_type": "code",
   "execution_count": 4,
   "metadata": {
    "collapsed": false
   },
   "outputs": [
    {
     "name": "stdout",
     "output_type": "stream",
     "text": [
      "Vietnamese statistics\n",
      "Nodes:  338714\n",
      "Edges:  426086\n",
      "Average degree:  1.25795213661\n"
     ]
    }
   ],
   "source": [
    "N = Vietnamese.order() #G.order(), gives number of nodes \n",
    "L = Vietnamese.size() #G.size(), gives number of edges\n",
    "\n",
    "avg_deg = float(L) / N #calculate average degree\n",
    "\n",
    "#print out statistics\n",
    "print \"Vietnamese statistics\"\n",
    "print \"Nodes: \", N\n",
    "print \"Edges: \", L\n",
    "print \"Average degree: \", avg_deg"
   ]
  },
  {
   "cell_type": "markdown",
   "metadata": {},
   "source": [
    "### In-degree and out-degree\n",
    "\n",
    "Let's see if the in-degree and out-degree differ a maximum of 100.\n"
   ]
  },
  {
   "cell_type": "code",
   "execution_count": 22,
   "metadata": {
    "collapsed": false
   },
   "outputs": [
    {
     "name": "stdout",
     "output_type": "stream",
     "text": [
      " Nodes with the same in-degree and out-degree:  0.692914966609\n",
      "Nodes in-degree and out-degree differ 1:  88.1640558111\n",
      "Nodes in-degree and out-degree differ 2:  5.29916094404\n",
      "Nodes with more than 2 difference:  5.84386827825\n",
      "Nodes which only received, not send:  97.7346670052\n",
      "Nodes which only sent, not received:  0.0239139805263\n",
      "smallest in-degree:  0\n",
      "smallest out-degree:  0\n",
      "highest in_degree:  99999\n",
      "highest out_degree:  99999\n",
      "amount of nodes with in_degree 0:  81\n",
      "amount of nodes with out-degree 0:  331041\n"
     ]
    }
   ],
   "source": [
    "in_degrees_vi = Vietnamese.in_degree()  # dictionary node:degree\n",
    "out_degrees_vi = Vietnamese.out_degree()\n",
    "\n",
    "def count_similar_degrees(in_degrees, out_degrees):\n",
    "    \"\"\"Count all the nodes for which the in-degree is within a 100 range of the out-degree.\"\"\"\n",
    "    counter_same = 0\n",
    "    counter_one = 0\n",
    "    counter_two = 0\n",
    "    counter_in_not_out = 0\n",
    "    counter_out_not_in = 0 \n",
    "    for node, in_degree in in_degrees.iteritems():\n",
    "            out_degree = out_degrees[node]\n",
    "            if out_degree == 0 and not in_degree == 0:\n",
    "                counter_in_not_out += 1\n",
    "            if in_degree == 0 and not out_degree == 0:\n",
    "                counter_out_not_in += 1\n",
    "            if out_degree == in_degree:\n",
    "                counter_same += 1\n",
    "            if out_degree in (in_degree - 1, in_degree + 1):\n",
    "                counter_one += 1\n",
    "            if out_degree in (in_degree - 2, in_degree + 2):\n",
    "                counter_two += 1\n",
    "     \n",
    "    print \"Nodes with the same in-degree and out-degree: \", float(counter_same) / len(in_degrees) * 100\n",
    "    print \"Nodes in-degree and out-degree differ 1: \", float(counter_one) / len(in_degrees) * 100\n",
    "    print \"Nodes in-degree and out-degree differ 2: \", float(counter_two) / len(in_degrees) * 100\n",
    "    print \"Nodes with more than 2 difference: \",  float(len(in_degrees) - counter_same - counter_one - counter_two) / len(in_degrees) * 100\n",
    "    print \"Nodes which only received, not send: \", float(counter_in_not_out) / len(in_degrees) * 100\n",
    "    print \"Nodes which only sent, not received: \",float(counter_out_not_in) / len(in_degrees) * 100\n",
    "\n",
    "\n",
    "\n",
    "count_similar_degrees(in_degrees_vi, out_degrees_vi)\n",
    "print \"smallest in-degree: \", min(in_degrees_vi)\n",
    "print \"smallest out-degree: \", min(out_degrees_vi)\n",
    "print \"highest in_degree: \", max(in_degrees_vi)\n",
    "print \"highest out_degree: \", max(out_degrees_vi)\n",
    "print \"amount of nodes with in_degree 0: \", sum(1 for x in in_degrees_vi.values() if x == 0)\n",
    "print \"amount of nodes with out-degree 0: \", sum(1 for x in out_degrees_vi.values() if x == 0)"
   ]
  },
  {
   "cell_type": "markdown",
   "metadata": {},
   "source": [
    "## Swedish"
   ]
  },
  {
   "cell_type": "code",
   "execution_count": 15,
   "metadata": {
    "collapsed": false
   },
   "outputs": [
    {
     "name": "stdout",
     "output_type": "stream",
     "text": [
      "done\n"
     ]
    }
   ],
   "source": [
    "with open('sv-wiki-talk.csv', 'rb') as file_handle:\n",
    "    next(file_handle, '')   # skip the header line (NOTE the first list in the CSV file doesn't contain an edge)\n",
    "    Swedish = nx.read_edgelist(file_handle, delimiter='\\t', create_using=nx.DiGraph(), \n",
    "                         nodetype=str, data=(('time', str),), encoding=\"utf-8\")\n",
    "print \"done\""
   ]
  },
  {
   "cell_type": "code",
   "execution_count": 16,
   "metadata": {
    "collapsed": false
   },
   "outputs": [
    {
     "name": "stdout",
     "output_type": "stream",
     "text": [
      "Swedish statistics\n",
      "Nodes:  120833\n",
      "Edges:  261494\n",
      "Average degree:  2.16409424578\n"
     ]
    }
   ],
   "source": [
    "N_sv = Swedish.order()\n",
    "L_sv = Swedish.size()\n",
    "\n",
    "avg_deg_sv = float(L_sv) / N_sv\n",
    "\n",
    "print \"Swedish statistics\"\n",
    "print \"Nodes: \", N_sv\n",
    "print \"Edges: \", L_sv\n",
    "print \"Average degree: \", avg_deg_sv"
   ]
  },
  {
   "cell_type": "code",
   "execution_count": 24,
   "metadata": {
    "collapsed": false
   },
   "outputs": [
    {
     "name": "stdout",
     "output_type": "stream",
     "text": [
      "Nodes with the same in-degree and out-degree:  2.90566318804\n",
      "Nodes in-degree and out-degree differ 1:  51.3692451565\n",
      "Nodes in-degree and out-degree differ 2:  29.9173239099\n",
      "Nodes with more than 2 difference:  15.8077677456\n",
      "Nodes which only received, not send:  86.2595483022\n",
      "Nodes which only sent, not received:  0.897105923051\n",
      "smallest in-degree:  0\n",
      "smallest out-degree:  0\n",
      "highest in_degree:  99995\n",
      "highest out_degree:  99995\n",
      "amount of nodes with in_degree 0:  1084\n",
      "amount of nodes with out-degree 0:  104230\n"
     ]
    }
   ],
   "source": [
    "in_degrees_sv = Swedish.in_degree()  # dictionary node:degree\n",
    "out_degrees_sv = Swedish.out_degree()\n",
    "\n",
    "count_similar_degrees(in_degrees_sv, out_degrees_sv)\n",
    "print \"smallest in-degree: \", min(in_degrees_sv)\n",
    "print \"smallest out-degree: \", min(out_degrees_sv)\n",
    "print \"highest in_degree: \", max(in_degrees_sv)\n",
    "print \"highest out_degree: \", max(out_degrees_sv)\n",
    "print \"amount of nodes with in_degree 0: \", sum(1 for x in in_degrees_sv.values() if x == 0)\n",
    "print \"amount of nodes with out-degree 0: \", sum(1 for x in out_degrees_sv.values() if x == 0)"
   ]
  },
  {
   "cell_type": "code",
   "execution_count": null,
   "metadata": {
    "collapsed": true
   },
   "outputs": [],
   "source": []
  }
 ],
 "metadata": {
  "anaconda-cloud": {},
  "kernelspec": {
   "display_name": "Python [Root]",
   "language": "python",
   "name": "Python [Root]"
  },
  "language_info": {
   "codemirror_mode": {
    "name": "ipython",
    "version": 2
   },
   "file_extension": ".py",
   "mimetype": "text/x-python",
   "name": "python",
   "nbconvert_exporter": "python",
   "pygments_lexer": "ipython2",
   "version": "2.7.12"
  }
 },
 "nbformat": 4,
 "nbformat_minor": 0
}
